{
 "cells": [
  {
   "cell_type": "markdown",
   "id": "cad73208",
   "metadata": {},
   "source": [
    "In Flask, the `url_for()` function is used for URL building. It generates a URL for a given view function based on its name and any arguments or keyword arguments that the view function requires. This is especially useful when you want to create URLs dynamically without hardcoding them in your templates or code.\n",
    "\n",
    "Here's a Python code example that demonstrates the working of the `url_for()` function in Flask:\n",
    "\n",
    "1. Create a Python file named `app.py` and add the following code:\n",
    "\n",
    "```python\n",
    "from flask import Flask, url_for\n",
    "\n",
    "app = Flask(__name__)\n",
    "\n",
    "# Define a route for the /welcome URL\n",
    "@app.route(\"/welcome\")\n",
    "def welcome():\n",
    "    return \"Welcome to ABC Corporation\"\n",
    "\n",
    "# Define a route for the / URL\n",
    "@app.route(\"/\")\n",
    "def company_info():\n",
    "    return \"\"\"Company Name: ABC Corporation\n",
    "Location: India\n",
    "Contact Detail: 999-999-9999\n",
    "<a href='{}'>Go to Welcome</a>\"\"\".format(url_for(\"welcome\"))\n",
    "\n",
    "if __name__ == \"__main__\":\n",
    "    app.run()\n",
    "```\n",
    "\n",
    "2. Save the file and open a terminal.\n",
    "\n",
    "3. Navigate to the directory where you saved `app.py`.\n",
    "\n",
    "4. Run the Flask application:\n",
    "```bash\n",
    "python app.py\n",
    "```\n",
    "\n",
    "5. Open a web browser and navigate to `http://127.0.0.1:5000/`.\n",
    "\n",
    "6. You will see the company details along with a link to the `/welcome` route.\n",
    "\n",
    "7. Click the \"Go to Welcome\" link to navigate to the `/welcome` route and see the welcome message.\n",
    "\n",
    "8. To stop the Flask development server, press `CTRL+C` in the terminal.\n",
    "\n",
    "In this example, the `url_for()` function is used to generate a URL for the `welcome` view function. This URL is then inserted into the HTML content of the `company_info` route using string formatting. When you click the link, it takes you to the `/welcome` route, demonstrating the dynamic URL building capability of the `url_for()` function in Flask."
   ]
  }
 ],
 "metadata": {
  "kernelspec": {
   "display_name": "Python 3 (ipykernel)",
   "language": "python",
   "name": "python3"
  },
  "language_info": {
   "codemirror_mode": {
    "name": "ipython",
    "version": 3
   },
   "file_extension": ".py",
   "mimetype": "text/x-python",
   "name": "python",
   "nbconvert_exporter": "python",
   "pygments_lexer": "ipython3",
   "version": "3.10.9"
  }
 },
 "nbformat": 4,
 "nbformat_minor": 5
}
