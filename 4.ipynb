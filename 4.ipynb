{
 "cells": [
  {
   "cell_type": "markdown",
   "id": "704561d5",
   "metadata": {},
   "source": [
    "1. Create a Python file named `app.py` and add the following code:\n",
    "\n",
    "```python\n",
    "from flask import Flask\n",
    "\n",
    "app = Flask(__name__)\n",
    "\n",
    "# Define a route for the /welcome URL\n",
    "@app.route(\"/welcome\")\n",
    "def welcome():\n",
    "    return \"Welcome to ABC Corporation\"\n",
    "\n",
    "# Define a route for the / URL\n",
    "@app.route(\"/\")\n",
    "def company_info():\n",
    "    return \"\"\"Company Name: ABC Corporation\n",
    "Location: India\n",
    "Contact Detail: 999-999-9999\"\"\"\n",
    "\n",
    "if __name__ == \"__main__\":\n",
    "    app.run()\n",
    "```\n",
    "\n",
    "2. Save the file and open a terminal.\n",
    "\n",
    "3. Navigate to the directory where you saved `app.py`.\n",
    "\n",
    "4. Run the Flask application:\n",
    "```bash\n",
    "python app.py\n",
    "```\n",
    "\n",
    "5. Open a web browser and navigate to `http://127.0.0.1:5000/welcome` to see the welcome message.\n",
    "\n",
    "6. Navigate to `http://127.0.0.1:5000/` to see the company details.\n",
    "\n",
    "7. To stop the Flask development server, press `CTRL+C` in the terminal.\n",
    "\n",
    "This example demonstrates a Flask application with two routes: `/welcome` displays the welcome message, and `/` displays the company details. You can access these routes using the respective URLs in your web browser."
   ]
  }
 ],
 "metadata": {
  "kernelspec": {
   "display_name": "Python 3 (ipykernel)",
   "language": "python",
   "name": "python3"
  },
  "language_info": {
   "codemirror_mode": {
    "name": "ipython",
    "version": 3
   },
   "file_extension": ".py",
   "mimetype": "text/x-python",
   "name": "python",
   "nbconvert_exporter": "python",
   "pygments_lexer": "ipython3",
   "version": "3.10.9"
  }
 },
 "nbformat": 4,
 "nbformat_minor": 5
}
